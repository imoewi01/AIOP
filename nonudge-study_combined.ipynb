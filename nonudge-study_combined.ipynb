{
 "cells": [
  {
   "cell_type": "markdown",
   "metadata": {},
   "source": [
    "# Look at runs with no nudges \n",
    "Useful for understanding how x,y and beam current impact coherent edge"
   ]
  },
  {
   "cell_type": "code",
   "execution_count": null,
   "metadata": {
    "_cell_guid": "b1076dfc-b9ad-4769-8c92-a6c4dae69d19",
    "_uuid": "8f2839f25d086af736a60e9eeb907d3b93b6e0e5",
    "execution": {
     "iopub.execute_input": "2025-06-09T16:13:09.005543Z",
     "iopub.status.busy": "2025-06-09T16:13:09.005200Z",
     "iopub.status.idle": "2025-06-09T16:13:09.013975Z",
     "shell.execute_reply": "2025-06-09T16:13:09.013041Z",
     "shell.execute_reply.started": "2025-06-09T16:13:09.005518Z"
    },
    "trusted": true
   },
   "outputs": [],
   "source": [
    "import numpy as np # linear algebra\n",
    "import pandas as pd # data processing, CSV file I/O (e.g. pd.read_csv)\n",
    "import matplotlib.pyplot as plt\n",
    "import matplotlib.ticker as ticker\n",
    "import statistics\n",
    "pd.set_option('display.max_columns',500)"
   ]
  },
  {
   "cell_type": "code",
   "execution_count": null,
   "metadata": {
    "execution": {
     "iopub.execute_input": "2025-06-09T16:13:18.498952Z",
     "iopub.status.busy": "2025-06-09T16:13:18.498621Z",
     "iopub.status.idle": "2025-06-09T16:13:38.621233Z",
     "shell.execute_reply": "2025-06-09T16:13:38.620288Z",
     "shell.execute_reply.started": "2025-06-09T16:13:18.498919Z"
    },
    "trusted": true
   },
   "outputs": [],
   "source": [
    "df_2020 = pd.read_csv(\"csv_data/merged/Spring2020_with_up_time.csv\")\n",
    "df_2023 = pd.read_csv(\"csv_data/merged/Spring2023_with_up_time.csv\")\n",
    "df_2025 = pd.read_csv(\"csv_data/merged/Spring2025_with_up_time.csv\")\n",
    "print(df_2020.columns)"
   ]
  },
  {
   "cell_type": "code",
   "execution_count": null,
   "metadata": {
    "trusted": true
   },
   "outputs": [],
   "source": [
    "df_2020.dropna(inplace=True)\n",
    "df_2023.dropna(inplace=True)\n",
    "df_2025.dropna(inplace=True)"
   ]
  },
  {
   "cell_type": "code",
   "execution_count": null,
   "metadata": {},
   "outputs": [],
   "source": [
    "df_2020['RunNumber'] = df_2020['RunNumber'].astype(int)\n",
    "df_2023['RunNumber'] = df_2023['RunNumber'].astype(int)\n",
    "df_2025['RunNumber'] = df_2025['RunNumber'].astype(int)\n"
   ]
  },
  {
   "cell_type": "code",
   "execution_count": null,
   "metadata": {},
   "outputs": [],
   "source": [
    "df_2025['GONI:ROLL'].value_counts()"
   ]
  },
  {
   "cell_type": "code",
   "execution_count": null,
   "metadata": {
    "trusted": true
   },
   "outputs": [],
   "source": [
    "# copy viz code from other notebook (or make it a utility aviailble to all would be better)\n",
    "no_nudge_run_list_2020 = df_2020['RunNumber'].unique()\n",
    "print(len(no_nudge_run_list_2020))"
   ]
  },
  {
   "cell_type": "code",
   "execution_count": null,
   "metadata": {},
   "outputs": [],
   "source": [
    "import matplotlib.pyplot as plt\n",
    "import matplotlib.ticker as ticker\n",
    "import numpy as np\n",
    "import statistics\n",
    "pd.set_option('display.max_columns',500)\n",
    "\n",
    "def plot_run(df_in, runNumber, set_ylims = False, ymin=8600, ymax=8620):\n",
    "\n",
    "    df_run = df_in[(df_in['RunNumber']==runNumber)&(df_in['DAQ:STATUS']==2)&(df_in['EBEAM:CURRENT']>50)&(df_in['BeamUpTime']>30)]\n",
    "    df_run.reset_index(inplace=True)\n",
    "\n",
    "    if df_run.empty:\n",
    "        return\n",
    "    zero_mask = np.isclose(df_run['EBEAM:CURRENT'],0)\n",
    "\n",
    "    print(\"plotting for run \",runNumber)\n",
    "\n",
    "    fig, (ax1, ax2, ax3,ax4,ax5) = plt.subplots(5,1,sharex=True)\n",
    "    \n",
    "\n",
    "    ax1.plot(df_run['TimeStamp'],df_run['CBREM:ENERGY'],color='b')\n",
    "\n",
    "    ax1.fill_between(df_run['TimeStamp'],8650,where=zero_mask,color='red',alpha=0.5)\n",
    "    if set_ylims:\n",
    "        ax1.set_ylim(ymin,ymax)\n",
    "    ax1.yaxis.set_minor_locator(ticker.MultipleLocator(5))\n",
    "\n",
    "\n",
    "    ax2.plot(df_run['TimeStamp'],df_run['EBEAM:X'],color='r')\n",
    "    ax2.set_ylabel('X (mm)')\n",
    "\n",
    "    ax3.plot(df_run['TimeStamp'],df_run['EBEAM:Y'],color='g')\n",
    "    ax3.set_ylabel('Y (mm)')\n",
    "\n",
    "    plt.xlabel(\"Time Stamp (s)\")\n",
    "\n",
    "    \n",
    "\n",
    "    ax4.plot(df_run['TimeStamp'],df_run['EBEAM:CURRENT'])\n",
    "    ax4.set_ylabel(\"I (nA)\")\n",
    "\n",
    "    ax5.plot(df_run['TimeStamp'],df_run['EBEAM:ENERGY'])\n",
    "    ax5.set_ylabel(\"$E(e^-) [MeV]$\")\n",
    " \n",
    "    plane_value = df_run.loc[0,'CBREM:PLANE']\n",
    "    roll_value = df_run.loc[0,'GONI:ROLL']\n",
    "\n",
    "    plane_str = 'PARA'\n",
    "    if plane_value==2:\n",
    "        plane_str = \"PERP\"\n",
    "    elif plane_value==0:\n",
    "        plane_str = \"Undefined\"\n",
    "    \n",
    "    outStr = \"0_90\"\n",
    "    orStr = \"0/90 \"\n",
    "    if roll_value>30:\n",
    "        orStr = \"45/135 \"\n",
    "        outStr = \"45_135\"\n",
    "\n",
    "    titleStr = 'Run Number '+str(runNumber)+\" \"+orStr+\" \"+plane_str\n",
    "    \n",
    "    ax1.set_title(titleStr)\n",
    "\n",
    "    ax1.set_ylabel(\"$E_\\gamma$ [MeV]\")\n",
    "    ax1.legend()\n",
    "\n",
    "    plt.savefig(\"plots/noNudge/\"+outStr+\"_\"+plane_str+\"/plot_run_\"+str(runNumber)+\".pdf\")\n",
    " \n",
    "    plt.show()\n",
    "\n",
    "    plt.clf()\n"
   ]
  },
  {
   "cell_type": "code",
   "execution_count": null,
   "metadata": {},
   "outputs": [],
   "source": [
    "plot_run(df_2020,72656)\n",
    "#plot_count = 0\n",
    "#for runNum in no_nudge_run_list:\n",
    "    #plot_run(runNum)"
   ]
  },
  {
   "cell_type": "code",
   "execution_count": null,
   "metadata": {},
   "outputs": [],
   "source": [
    "import seaborn as sns\n",
    "from sklearn.feature_selection import mutual_info_regression \n",
    "\n",
    "# run period is either Spring20, Spring23, or Spring25\n",
    "def summary_correlations(df_in, run_period):\n",
    "\n",
    "    if df_in.empty:\n",
    "        print('input data frame empty, exit')\n",
    "        exit()\n",
    "    roll_0_90 = 0\n",
    "    roll_45_135 = 0\n",
    "\n",
    "    if run_period == 'Spring20':\n",
    "        roll_0_90 = -10.5\n",
    "        roll_45_135 = 34.5\n",
    "    elif run_period == 'Spring23':\n",
    "        roll_0_90 = 162\n",
    "        roll_45_135 = -153\n",
    "    elif run_period == 'Spring25':\n",
    "        roll_0_90 = -16.6\n",
    "        roll_45_135 = 28.4\n",
    "    else:\n",
    "        print(\"run_period\",run_period,'not defined')\n",
    "        exit()\n",
    "\n",
    "    # data frame for times with DAQ on, beam up at least 30 seconds, separated by orientation\n",
    "    df_0_90_PERP = df_in[(df_in['DAQ:STATUS']==2)&(df_in['GONI:ROLL']==roll_0_90)&(df_in['CBREM:PLANE']==2)&(df_in['BeamUpTime']>30)]\n",
    "    df_0_90_PARA = df_in[(df_in['DAQ:STATUS']==2)&(df_in['GONI:ROLL']==roll_0_90)&(df_in['CBREM:PLANE']==1)&(df_in['BeamUpTime']>30)]\n",
    "\n",
    "    df_45_135_PERP = df_in[(df_in['DAQ:STATUS']==2)&(df_in['GONI:ROLL']==roll_45_135)&(df_in['CBREM:PLANE']==2)&(df_in['BeamUpTime']>30)]\n",
    "    df_45_135_PARA = df_in[(df_in['DAQ:STATUS']==2)&(df_in['GONI:ROLL']==roll_45_135)&(df_in['CBREM:PLANE']==1)&(df_in['BeamUpTime']>30)]\n",
    "\n",
    "    df_list = [df_0_90_PERP,df_0_90_PARA,df_45_135_PERP,df_45_135_PARA]\n",
    "    title_list = [\"0/90 PERP\",\"0/90 PARA\",\"45/135 PERP\",\"45/135 PARA\"]\n",
    "    outStr = [\"0_90_PERP\",\"0_90_PARA\",\"45_135_PERP\",\"45_135_PARA\"]\n",
    "    #plt, (ax1, ax2, ax3, ax4) = plt.subplots(4,1)\n",
    "    for method in ['pearson','spearman']:\n",
    "        for i in range(len(df_list)):\n",
    "\n",
    "            ax = plt.subplot(1,1,1)\n",
    "            df_tmp = df_list[i].copy()\n",
    "            df_tmp = df_tmp[['CBREM:ENERGY_LAG_ADJUSTED','EBEAM:X',\"EBEAM:Y\",'EBEAM:CURRENT','EBEAM:ENERGY']]\n",
    "            if df_tmp.empty:\n",
    "                print('dataframe is empty for ',title_list[i])\n",
    "            #corr_matrix = np.array(df_tmp.corr(method=method)['CBREM:ENERGY']).reshape(-1,1)[1:]\n",
    "            corr_matrix = np.array(df_tmp.corr(method=method)['CBREM:ENERGY_LAG_ADJUSTED']).reshape(-1,1)[1:]\n",
    "            var_list = ['Electron X','Electron Y','Current','$E_e$']\n",
    "\n",
    "            print(corr_matrix)\n",
    "\n",
    "            sns.heatmap(corr_matrix,annot=True)\n",
    "            ax.set_yticklabels(var_list)\n",
    "            ax.set_xticklabels(['CBREM:ENERGY_LAG_ADJUSTED'])\n",
    "            plt.title(run_period+\" \"+title_list[i]+\" \"+method.title()+\" Correlations\")\n",
    "            plt.savefig(\"plots/noNudge/\"+method+\"_corr_plot_\"+outStr[i]+'_'+run_period+'.pdf')\n",
    "            plt.show()"
   ]
  },
  {
   "cell_type": "markdown",
   "metadata": {},
   "source": [
    "Initial correlation maps before requiring beam current to be above 100 nA"
   ]
  },
  {
   "cell_type": "code",
   "execution_count": null,
   "metadata": {},
   "outputs": [],
   "source": [
    "print(df_2020.columns)\n",
    "summary_correlations(df_2020, 'Spring20')\n",
    "\n",
    "\n",
    "\n"
   ]
  },
  {
   "cell_type": "code",
   "execution_count": null,
   "metadata": {},
   "outputs": [],
   "source": [
    "summary_correlations(df_2023, 'Spring23')"
   ]
  },
  {
   "cell_type": "code",
   "execution_count": null,
   "metadata": {},
   "outputs": [],
   "source": [
    "print(df_2025.columns)\n",
    "print(df_2025['CBREM:ENERGY_LAG_ADJUSTED'].describe())"
   ]
  },
  {
   "cell_type": "code",
   "execution_count": null,
   "metadata": {},
   "outputs": [],
   "source": [
    "summary_correlations(df_2025, 'Spring25')"
   ]
  },
  {
   "cell_type": "code",
   "execution_count": null,
   "metadata": {},
   "outputs": [],
   "source": [
    "df_2020 = df_2020[df_2020['BeamUpTime']>30]\n",
    "df_2023 = df_2023[df_2023['BeamUpTime']>30]\n",
    "df_2025 = df_2025[df_2025['BeamUpTime']>30]"
   ]
  },
  {
   "cell_type": "markdown",
   "metadata": {},
   "source": [
    "Plot x and y of beam for each run period"
   ]
  },
  {
   "cell_type": "code",
   "execution_count": null,
   "metadata": {},
   "outputs": [],
   "source": [
    "def plot_xy(df_in,title):\n",
    "\n",
    "    plt.scatter(df_in['EBEAM:X'],df_in['EBEAM:Y'],alpha=0.1)\n",
    "    plt.title(title)\n",
    "    plt.xlabel(\"Electron X [mm]\")\n",
    "    plt.ylabel(\"Electron Y [mm]\")"
   ]
  },
  {
   "cell_type": "code",
   "execution_count": null,
   "metadata": {},
   "outputs": [],
   "source": [
    "plot_xy(df_2020,'Spring 2020 y vs x')"
   ]
  },
  {
   "cell_type": "code",
   "execution_count": null,
   "metadata": {},
   "outputs": [],
   "source": [
    "plot_xy(df_2023,'Spring 2023 y vs x')"
   ]
  },
  {
   "cell_type": "code",
   "execution_count": null,
   "metadata": {},
   "outputs": [],
   "source": [
    "plot_xy(df_2025,'Spring 2025 y vs x')"
   ]
  },
  {
   "cell_type": "code",
   "execution_count": null,
   "metadata": {},
   "outputs": [],
   "source": [
    "spring20_runs = df_2020['RunNumber'].unique()\n",
    "spring23_runs = df_2023['RunNumber'].unique()\n",
    "spring25_runs = df_2025['RunNumber'].unique()"
   ]
  },
  {
   "cell_type": "code",
   "execution_count": null,
   "metadata": {},
   "outputs": [],
   "source": [
    "for runNum in spring20_runs:\n",
    "    plot_run(df_2020,runNum)"
   ]
  },
  {
   "cell_type": "code",
   "execution_count": null,
   "metadata": {},
   "outputs": [],
   "source": [
    "for runNum in spring23_runs:\n",
    "    plot_run(df_2023,runNum)"
   ]
  },
  {
   "cell_type": "code",
   "execution_count": null,
   "metadata": {},
   "outputs": [],
   "source": [
    "for runNum in spring25_runs:\n",
    "    plot_run(df_2025,runNum)"
   ]
  },
  {
   "cell_type": "code",
   "execution_count": null,
   "metadata": {},
   "outputs": [],
   "source": [
    "import matplotlib.gridspec as gridspec\n",
    "import matplotlib as mpl\n",
    "\n",
    "\n",
    "def plot_corrs(df_in, runNumber):\n",
    "    df_tmp = df_in[(df_in['RunNumber']==runNumber)&(df_in['BeamUpTime']>30)]\n",
    "    df_tmp.reset_index(inplace=True)\n",
    "\n",
    "    plane_value = df_tmp.loc[0,'CBREM:PLANE']\n",
    "    roll_value = df_tmp.loc[0,'GONI:ROLL']\n",
    "\n",
    "    plane_str = 'PARA'\n",
    "    if plane_value==2:\n",
    "        plane_str = \"PERP\"\n",
    "    elif plane_value==0:\n",
    "        plane_str = \"Undefined\"\n",
    "    \n",
    "    outStr = \"0_90\"\n",
    "    orStr = \"0/90 \"\n",
    "    if roll_value>30:\n",
    "        orStr = \"45/135 \"\n",
    "        outStr = \"45_135\"\n",
    "    outStr = outStr+\"_\"+plane_str\n",
    "\n",
    "\n",
    "    fig = plt.figure(figsize=(8,8))\n",
    "    gs = gridspec.GridSpec(4,2,figure=fig,hspace=0.4)\n",
    "\n",
    "    ax1 = fig.add_subplot(gs[0,0])\n",
    "    ax2 = fig.add_subplot(gs[1,0])\n",
    "    ax3 = fig.add_subplot(gs[2,0])\n",
    "    ax4 = fig.add_subplot(gs[3,0])\n",
    "    ax5 = fig.add_subplot(gs[:,1])\n",
    "\n",
    "    ax1.scatter(df_tmp['EBEAM:X'],df_tmp['CBREM:ENERGY_LAG_ADJUSTED'],alpha=0.2,rasterized=True)\n",
    "    ax1.set_xlabel(\"Electron X [mm]\")\n",
    "    ax1.set_ylabel(\"$E_\\gamma$ [MeV]\")\n",
    "    ax1.set_yscale('log')\n",
    "    ax1.set_title(\"Run \"+str(runNumber)+\" \"+orStr+\" \"+plane_str)\n",
    "\n",
    "    \n",
    "    ax2.scatter(df_tmp['EBEAM:Y'],df_tmp['CBREM:ENERGY_LAG_ADJUSTED'],alpha=0.2,rasterized=True)\n",
    "    ax2.set_xlabel(\"Electron Y [mm]\")\n",
    "    ax2.set_yscale('log')\n",
    "    ax2.set_ylabel(\"$E_\\gamma$ [MeV]\")\n",
    "\n",
    "\n",
    "    ax3.scatter(df_tmp['EBEAM:CURRENT'],df_tmp['CBREM:ENERGY_LAG_ADJUSTED'],alpha=0.2,rasterized=True)\n",
    "    ax3.set_xlabel(\"Current [nA]\")\n",
    "    ax3.set_yscale('log')\n",
    "    ax3.set_ylabel(\"$E_\\gamma$ [MeV]\")\n",
    "\n",
    "    ax4.scatter(df_tmp['EBEAM:ENERGY'],df_tmp['CBREM:ENERGY_LAG_ADJUSTED'],alpha=0.2,rasterized=True)\n",
    "    ax4.xaxis.set_major_locator(plt.MaxNLocator(4))\n",
    "    ax4.set_xlabel(\"Electron Energy [MeV]\")\n",
    "    ax4.set_yscale('log')\n",
    "    ax4.set_ylabel(\"$E_\\gamma$ [MeV]\")\n",
    "\n",
    "\n",
    "\n",
    "    # just grab variables of interest, in the correct order \n",
    "    # keep coherent edge energy at beginning, but drop after \n",
    "    df_viz = df_tmp[['CBREM:ENERGY_LAG_ADJUSTED','EBEAM:X',\"EBEAM:Y\",'EBEAM:CURRENT','EBEAM:ENERGY']]\n",
    "    corr_matrix = np.array(df_viz.corr()['CBREM:ENERGY_LAG_ADJUSTED']).reshape(-1,1)[1:]\n",
    "\n",
    "    var_list = ['Electron X',\"Electron Y\",'Current','Electron Energy']\n",
    "\n",
    "    print(corr_matrix)\n",
    "\n",
    "    sns.heatmap(corr_matrix,ax=ax5,annot=True)\n",
    "    ax5.set_yticklabels(var_list)\n",
    "    ax5.set_xticklabels(['$E_\\gamma$'])\n",
    "    ax5.set_title(\"Run \"+str(runNumber)+\" Correlation Map\")\n",
    " \n",
    "    plt.savefig(\"plots/noNudge/\"+outStr+\"/run_\"+str(runNumber)+\"_correlations.pdf\")\n",
    "    plt.show()\n",
    "    plt.clf()"
   ]
  },
  {
   "cell_type": "code",
   "execution_count": null,
   "metadata": {},
   "outputs": [],
   "source": [
    "\n",
    "plot_corrs(df_2020,72676)"
   ]
  },
  {
   "cell_type": "code",
   "execution_count": null,
   "metadata": {},
   "outputs": [],
   "source": [
    "plot_corrs(df_2020,72676)"
   ]
  },
  {
   "cell_type": "code",
   "execution_count": null,
   "metadata": {},
   "outputs": [],
   "source": [
    "for runVal in spring20_runs:\n",
    "    plot_corrs(df_2020, runVal)"
   ]
  },
  {
   "cell_type": "code",
   "execution_count": null,
   "metadata": {},
   "outputs": [],
   "source": [
    "for runVal in spring23_runs:\n",
    "    plot_corrs(df_2023, runVal)"
   ]
  },
  {
   "cell_type": "code",
   "execution_count": null,
   "metadata": {},
   "outputs": [],
   "source": [
    "for runVal in spring23_runs:\n",
    "    plot_corrs(df_2023, runVal)"
   ]
  },
  {
   "cell_type": "code",
   "execution_count": null,
   "metadata": {},
   "outputs": [],
   "source": [
    "plot_corrs(72656)"
   ]
  },
  {
   "cell_type": "code",
   "execution_count": null,
   "metadata": {},
   "outputs": [],
   "source": [
    "plot_run(72656)"
   ]
  },
  {
   "cell_type": "code",
   "execution_count": null,
   "metadata": {},
   "outputs": [],
   "source": [
    "plot_run(72656,True,8590,8610)"
   ]
  },
  {
   "cell_type": "code",
   "execution_count": null,
   "metadata": {},
   "outputs": [],
   "source": [
    "sns.pairplot(df_2020[['CBREM:ENERGY','EBEAM:X','EBEAM:Y','EBEAM:CURRENT','EBEAM:ENERGY']])"
   ]
  },
  {
   "cell_type": "code",
   "execution_count": null,
   "metadata": {},
   "outputs": [],
   "source": [
    "sns.pairplot(df_2023[['CBREM:ENERGY','EBEAM:X','EBEAM:Y','EBEAM:CURRENT','EBEAM:ENERGY']])"
   ]
  },
  {
   "cell_type": "code",
   "execution_count": null,
   "metadata": {},
   "outputs": [],
   "source": [
    "sns.pairplot(df_2025[['CBREM:ENERGY','EBEAM:X','EBEAM:Y','EBEAM:CURRENT','EBEAM:ENERGY']])"
   ]
  },
  {
   "cell_type": "code",
   "execution_count": null,
   "metadata": {},
   "outputs": [],
   "source": []
  }
 ],
 "metadata": {
  "kaggle": {
   "accelerator": "none",
   "dataSources": [
    {
     "datasetId": 7606862,
     "sourceId": 12083762,
     "sourceType": "datasetVersion"
    }
   ],
   "dockerImageVersionId": 31040,
   "isGpuEnabled": false,
   "isInternetEnabled": true,
   "language": "python",
   "sourceType": "notebook"
  },
  "kernelspec": {
   "display_name": "base",
   "language": "python",
   "name": "python3"
  },
  "language_info": {
   "codemirror_mode": {
    "name": "ipython",
    "version": 3
   },
   "file_extension": ".py",
   "mimetype": "text/x-python",
   "name": "python",
   "nbconvert_exporter": "python",
   "pygments_lexer": "ipython3",
   "version": "3.10.18"
  }
 },
 "nbformat": 4,
 "nbformat_minor": 4
}
